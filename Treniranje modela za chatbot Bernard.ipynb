{
 "cells": [
  {
   "cell_type": "markdown",
   "id": "4f2cebfc",
   "metadata": {},
   "source": [
    "# Treniranje modela za chatbot Bernard"
   ]
  },
  {
   "cell_type": "markdown",
   "id": "e7de5ff9",
   "metadata": {},
   "source": [
    "Ovaj Jupyter notebook predstavlja proces treniranja modela baziranog na transformer tehnologiji.\n",
    "\n",
    "Rezultat nakon treniranja je model koji generira odgovor na na proizvoljan unos korisnika.\n",
    "\n",
    "Sama arhitektura modela je velikim dijelom bazirana na [Transformer modelu za razumijevanje jezika](https://www.tensorflow.org/text/tutorials/transformer), te je također velikim dijelom inspirirana sa [Chatbot programom](https://github.com/bryanlimy/tf2-transformer-chatbot) autora Bryan M. Li, doktoranda na sveučilištu u Edinbourghu. "
   ]
  },
  {
   "cell_type": "markdown",
   "id": "a161a2da",
   "metadata": {},
   "source": [
    "## O modelu"
   ]
  },
  {
   "cell_type": "markdown",
   "id": "4c2c0b8c",
   "metadata": {},
   "source": [
    "Kako b postigli razumijevanje ovakvog modela koji koristi transformer, potrebno je prethodno na teoretskoj razini proučiti tematike [generiranja teksta](https://www.tensorflow.org/text/tutorials/text_generation), [mehanizma pažnje](https://www.tensorflow.org/text/tutorials/nmt_with_attention) i [transformera](https://www.tensorflow.org/text/tutorials/transformer).\n",
    "\n",
    "Transformer model ovdje koristi mehanizam samopažnje - to jest sposobnost da se različite pozicije znakova u nizu koji čini unos obrade tako da se dobije odgovarajući reprezentant tog niza. \n",
    "Transformer tako stvara mnogobrojne slojeve koji koriste mehanizam samopažnje potrebne za postizanje odgovarajućeg rezultata. \n",
    "\n",
    "Za daljnje modifikacije ovog modela transformera i modifikaciju hiperparametara, preporučam referirati se na poznati članak pod naslovom [Attention is all you need](https://arxiv.org/abs/1706.03762)."
   ]
  },
  {
   "cell_type": "markdown",
   "id": "7da2d052",
   "metadata": {},
   "source": [
    "Kako bi u opširnije opisali model i proveli treniranje, potrebno je učitati potrebne biblioteke.:"
   ]
  },
  {
   "cell_type": "code",
   "execution_count": 1,
   "id": "fbf56fc4",
   "metadata": {},
   "outputs": [
    {
     "name": "stdout",
     "output_type": "stream",
     "text": [
      "Defaulting to user installation because normal site-packages is not writeable\n",
      "Requirement already satisfied: tensorflow==2.9.1 in ./.local/lib/python3.9/site-packages (2.9.1)\n",
      "Requirement already satisfied: tensorflow_datasets==4.6.0 in ./.local/lib/python3.9/site-packages (4.6.0)\n",
      "Requirement already satisfied: keras<2.10.0,>=2.9.0rc0 in ./.local/lib/python3.9/site-packages (from tensorflow==2.9.1) (2.9.0)\n",
      "Requirement already satisfied: absl-py>=1.0.0 in ./.local/lib/python3.9/site-packages (from tensorflow==2.9.1) (1.2.0)\n",
      "Requirement already satisfied: wrapt>=1.11.0 in /opt/anaconda3-2022.05/lib/python3.9/site-packages (from tensorflow==2.9.1) (1.12.1)\n",
      "Requirement already satisfied: keras-preprocessing>=1.1.1 in /opt/anaconda3-2022.05/lib/python3.9/site-packages (from tensorflow==2.9.1) (1.1.2)\n",
      "Requirement already satisfied: termcolor>=1.1.0 in /opt/anaconda3-2022.05/lib/python3.9/site-packages (from tensorflow==2.9.1) (1.1.0)\n",
      "Requirement already satisfied: libclang>=13.0.0 in ./.local/lib/python3.9/site-packages (from tensorflow==2.9.1) (14.0.6)\n",
      "Requirement already satisfied: astunparse>=1.6.0 in /opt/anaconda3-2022.05/lib/python3.9/site-packages (from tensorflow==2.9.1) (1.6.3)\n",
      "Requirement already satisfied: typing-extensions>=3.6.6 in /opt/anaconda3-2022.05/lib/python3.9/site-packages (from tensorflow==2.9.1) (4.1.1)\n",
      "Requirement already satisfied: opt-einsum>=2.3.2 in /opt/anaconda3-2022.05/lib/python3.9/site-packages (from tensorflow==2.9.1) (3.3.0)\n",
      "Requirement already satisfied: google-pasta>=0.1.1 in /opt/anaconda3-2022.05/lib/python3.9/site-packages (from tensorflow==2.9.1) (0.2.0)\n",
      "Requirement already satisfied: gast<=0.4.0,>=0.2.1 in /opt/anaconda3-2022.05/lib/python3.9/site-packages (from tensorflow==2.9.1) (0.4.0)\n",
      "Requirement already satisfied: tensorflow-estimator<2.10.0,>=2.9.0rc0 in ./.local/lib/python3.9/site-packages (from tensorflow==2.9.1) (2.9.0)\n",
      "Requirement already satisfied: setuptools in /opt/anaconda3-2022.05/lib/python3.9/site-packages (from tensorflow==2.9.1) (61.2.0)\n",
      "Requirement already satisfied: packaging in /opt/anaconda3-2022.05/lib/python3.9/site-packages (from tensorflow==2.9.1) (21.3)\n",
      "Requirement already satisfied: flatbuffers<2,>=1.12 in ./.local/lib/python3.9/site-packages (from tensorflow==2.9.1) (1.12)\n",
      "Requirement already satisfied: h5py>=2.9.0 in /opt/anaconda3-2022.05/lib/python3.9/site-packages (from tensorflow==2.9.1) (2.10.0)\n",
      "Requirement already satisfied: grpcio<2.0,>=1.24.3 in /opt/anaconda3-2022.05/lib/python3.9/site-packages (from tensorflow==2.9.1) (1.42.0)\n",
      "Requirement already satisfied: protobuf<3.20,>=3.9.2 in /opt/anaconda3-2022.05/lib/python3.9/site-packages (from tensorflow==2.9.1) (3.19.1)\n",
      "Requirement already satisfied: numpy>=1.20 in /opt/anaconda3-2022.05/lib/python3.9/site-packages (from tensorflow==2.9.1) (1.21.5)\n",
      "Requirement already satisfied: tensorflow-io-gcs-filesystem>=0.23.1 in ./.local/lib/python3.9/site-packages (from tensorflow==2.9.1) (0.27.0)\n",
      "Requirement already satisfied: tensorboard<2.10,>=2.9 in ./.local/lib/python3.9/site-packages (from tensorflow==2.9.1) (2.9.1)\n",
      "Requirement already satisfied: six>=1.12.0 in /opt/anaconda3-2022.05/lib/python3.9/site-packages (from tensorflow==2.9.1) (1.16.0)\n",
      "Requirement already satisfied: dill in ./.local/lib/python3.9/site-packages (from tensorflow_datasets==4.6.0) (0.3.5.1)\n",
      "Requirement already satisfied: tensorflow-metadata in ./.local/lib/python3.9/site-packages (from tensorflow_datasets==4.6.0) (1.10.0)\n",
      "Requirement already satisfied: requests>=2.19.0 in /opt/anaconda3-2022.05/lib/python3.9/site-packages (from tensorflow_datasets==4.6.0) (2.27.1)\n",
      "Requirement already satisfied: etils[epath] in ./.local/lib/python3.9/site-packages (from tensorflow_datasets==4.6.0) (0.8.0)\n",
      "Requirement already satisfied: promise in ./.local/lib/python3.9/site-packages (from tensorflow_datasets==4.6.0) (2.3)\n",
      "Requirement already satisfied: toml in /opt/anaconda3-2022.05/lib/python3.9/site-packages (from tensorflow_datasets==4.6.0) (0.10.2)\n",
      "Requirement already satisfied: tqdm in /opt/anaconda3-2022.05/lib/python3.9/site-packages (from tensorflow_datasets==4.6.0) (4.64.0)\n",
      "Requirement already satisfied: wheel<1.0,>=0.23.0 in /opt/anaconda3-2022.05/lib/python3.9/site-packages (from astunparse>=1.6.0->tensorflow==2.9.1) (0.37.1)\n",
      "Requirement already satisfied: certifi>=2017.4.17 in /opt/anaconda3-2022.05/lib/python3.9/site-packages (from requests>=2.19.0->tensorflow_datasets==4.6.0) (2022.9.24)\n",
      "Requirement already satisfied: idna<4,>=2.5 in /opt/anaconda3-2022.05/lib/python3.9/site-packages (from requests>=2.19.0->tensorflow_datasets==4.6.0) (3.3)\n",
      "Requirement already satisfied: urllib3<1.27,>=1.21.1 in /opt/anaconda3-2022.05/lib/python3.9/site-packages (from requests>=2.19.0->tensorflow_datasets==4.6.0) (1.26.9)\n",
      "Requirement already satisfied: charset-normalizer~=2.0.0 in /opt/anaconda3-2022.05/lib/python3.9/site-packages (from requests>=2.19.0->tensorflow_datasets==4.6.0) (2.0.4)\n",
      "Requirement already satisfied: google-auth<3,>=1.6.3 in /opt/anaconda3-2022.05/lib/python3.9/site-packages (from tensorboard<2.10,>=2.9->tensorflow==2.9.1) (1.33.0)\n",
      "Requirement already satisfied: tensorboard-data-server<0.7.0,>=0.6.0 in /opt/anaconda3-2022.05/lib/python3.9/site-packages (from tensorboard<2.10,>=2.9->tensorflow==2.9.1) (0.6.0)\n",
      "Requirement already satisfied: markdown>=2.6.8 in /opt/anaconda3-2022.05/lib/python3.9/site-packages (from tensorboard<2.10,>=2.9->tensorflow==2.9.1) (3.3.4)\n",
      "Requirement already satisfied: werkzeug>=1.0.1 in /opt/anaconda3-2022.05/lib/python3.9/site-packages (from tensorboard<2.10,>=2.9->tensorflow==2.9.1) (2.0.3)\n",
      "Requirement already satisfied: google-auth-oauthlib<0.5,>=0.4.1 in /opt/anaconda3-2022.05/lib/python3.9/site-packages (from tensorboard<2.10,>=2.9->tensorflow==2.9.1) (0.4.4)\n",
      "Requirement already satisfied: tensorboard-plugin-wit>=1.6.0 in /opt/anaconda3-2022.05/lib/python3.9/site-packages (from tensorboard<2.10,>=2.9->tensorflow==2.9.1) (1.8.1)\n",
      "Requirement already satisfied: pyasn1-modules>=0.2.1 in /opt/anaconda3-2022.05/lib/python3.9/site-packages (from google-auth<3,>=1.6.3->tensorboard<2.10,>=2.9->tensorflow==2.9.1) (0.2.8)\n",
      "Requirement already satisfied: cachetools<5.0,>=2.0.0 in /opt/anaconda3-2022.05/lib/python3.9/site-packages (from google-auth<3,>=1.6.3->tensorboard<2.10,>=2.9->tensorflow==2.9.1) (4.2.2)\n",
      "Requirement already satisfied: rsa<5,>=3.1.4 in /opt/anaconda3-2022.05/lib/python3.9/site-packages (from google-auth<3,>=1.6.3->tensorboard<2.10,>=2.9->tensorflow==2.9.1) (4.7.2)\n",
      "Requirement already satisfied: requests-oauthlib>=0.7.0 in /opt/anaconda3-2022.05/lib/python3.9/site-packages (from google-auth-oauthlib<0.5,>=0.4.1->tensorboard<2.10,>=2.9->tensorflow==2.9.1) (1.3.0)\n",
      "Requirement already satisfied: pyasn1<0.5.0,>=0.4.6 in /opt/anaconda3-2022.05/lib/python3.9/site-packages (from pyasn1-modules>=0.2.1->google-auth<3,>=1.6.3->tensorboard<2.10,>=2.9->tensorflow==2.9.1) (0.4.8)\n",
      "Requirement already satisfied: oauthlib>=3.0.0 in /opt/anaconda3-2022.05/lib/python3.9/site-packages (from requests-oauthlib>=0.7.0->google-auth-oauthlib<0.5,>=0.4.1->tensorboard<2.10,>=2.9->tensorflow==2.9.1) (3.2.0)\n",
      "Requirement already satisfied: importlib_resources in ./.local/lib/python3.9/site-packages (from etils[epath]->tensorflow_datasets==4.6.0) (5.9.0)\n",
      "Requirement already satisfied: zipp in /opt/anaconda3-2022.05/lib/python3.9/site-packages (from etils[epath]->tensorflow_datasets==4.6.0) (3.7.0)\n",
      "Requirement already satisfied: pyparsing!=3.0.5,>=2.0.2 in /opt/anaconda3-2022.05/lib/python3.9/site-packages (from packaging->tensorflow==2.9.1) (3.0.4)\n",
      "Requirement already satisfied: googleapis-common-protos<2,>=1.52.0 in /opt/anaconda3-2022.05/lib/python3.9/site-packages (from tensorflow-metadata->tensorflow_datasets==4.6.0) (1.53.0)\n",
      "Tensorflow version 2.9.1\n"
     ]
    }
   ],
   "source": [
    "!pip install tensorflow==2.9.1 tensorflow_datasets==4.6.0\n",
    "\n",
    "from __future__ import absolute_import, division, print_function, unicode_literals\n",
    "\n",
    "import sys\n",
    "\n",
    "import os\n",
    "import re\n",
    "import numpy as np\n",
    "from time import time\n",
    "import tensorflow as tf\n",
    "import matplotlib.pyplot as plt\n",
    "import tensorflow_datasets as tfds\n",
    "#za widgete\n",
    "import ipywidgets as widgets\n",
    "from IPython.display import display\n",
    "\n",
    "tf.keras.utils.set_random_seed(1234)\n",
    "\n",
    "print(f\"Tensorflow version {tf.__version__}\")\n",
    "\n",
    "#supress tensorflow complaining about everything he sees\n",
    "os.environ['TF_CPP_MIN_LOG_LEVEL'] = '2'"
   ]
  },
  {
   "cell_type": "markdown",
   "id": "bb6147e0",
   "metadata": {},
   "source": [
    "## Korištenje GPU jedinica"
   ]
  },
  {
   "cell_type": "markdown",
   "id": "2d205863",
   "metadata": {},
   "source": [
    "Kako bi iskoristili brže mogućnosti računanja koje nam pruža GPU (eng. graphic processing unit, hrv. grafička procesna jedinica), možemo iskoristiti iduće ćelije. \n",
    "\n",
    "Ukoliko Vaš hardver omogućava korištenje GPU jedinica, preporučeno je se osloniti na njih umjesto na CPU (eng. central processing unit, hrv. centralna procesna jedinica). Postoji više načina [postavljanja GPU-a za uporabu](https://www.tensorflow.org/guide/gpu) i [strategijama za računanje na GPU jedinicama u slučajevima gdje ih ima više](https://www.tensorflow.org/guide/distributed_training)."
   ]
  },
  {
   "cell_type": "markdown",
   "id": "504e47a7",
   "metadata": {},
   "source": [
    "Provjerimo koliko grafičkih procesnih jedinica nam je dostupno:"
   ]
  },
  {
   "cell_type": "code",
   "execution_count": 2,
   "id": "556d10af",
   "metadata": {
    "scrolled": true
   },
   "outputs": [
    {
     "name": "stdout",
     "output_type": "stream",
     "text": [
      "Num GPUs Available:  1\n"
     ]
    }
   ],
   "source": [
    "print(\"Num GPUs Available: \", len(tf.config.list_physical_devices('GPU')))"
   ]
  },
  {
   "cell_type": "markdown",
   "id": "2bb9c55d",
   "metadata": {},
   "source": [
    "Mguće je prilagoditi program tako da se optimalno distribuirano izvršava na svim dostupnim grafičkim procesnim jedinicama, bez ručne provjere broja dostupnih jedinica. Distribuirano treniranje sa više grafičkih procesnih jedinica moguće je implementirati koristeći jednu od strategija za distribuirano treniranje koje koristi biblioteka Tensorflow.\n",
    "\n",
    "Za treniranje transformer modela programa Bernard je tako korištena strategija zrcaljenja (eng. mirrored strategy), koja je dovoljno dobra za naše potrebe. Kako bi Tensorflow konstruirao strategiju zrcaljenja, dovoljno je napraviti sljedeći korak:"
   ]
  },
  {
   "cell_type": "code",
   "execution_count": 3,
   "id": "9fbe8975",
   "metadata": {},
   "outputs": [
    {
     "name": "stdout",
     "output_type": "stream",
     "text": [
      "INFO:tensorflow:Using MirroredStrategy with devices ('/job:localhost/replica:0/task:0/device:GPU:0',)\n"
     ]
    }
   ],
   "source": [
    "strategy = tf.distribute.MirroredStrategy()"
   ]
  },
  {
   "cell_type": "markdown",
   "id": "0e476dd3",
   "metadata": {},
   "source": [
    "Kako nijedan uređaj nije naveden u argumentu konstruktora strategije, koriste se svi dostupni GPU-ovi. Ako se ne pronađe nijedan GPU, koristit će se dostupan CPU. "
   ]
  },
  {
   "cell_type": "markdown",
   "id": "71297dbb",
   "metadata": {},
   "source": [
    "## Hiperparametri"
   ]
  },
  {
   "cell_type": "markdown",
   "id": "151a6ece",
   "metadata": {},
   "source": [
    "Kako bi treniranje učinili bržim, parametri vezani uz transformer _num_layers_, _d_model_, i _units_ su smanjeni. \n",
    "Kako bi ovaj primjer bio jednostavan i brz, ograničavamo maksimalnu duljinu rečenice na MAX_LENGTH=40."
   ]
  },
  {
   "cell_type": "code",
   "execution_count": 4,
   "id": "b0b592e8",
   "metadata": {},
   "outputs": [],
   "source": [
    "# Maksimalna duljina rečenice\n",
    "MAX_LENGTH = 40\n",
    "\n",
    "# Maksimalni broj sample-ova za preprocesirati\n",
    "MAX_SAMPLES = 250000\n",
    "\n",
    "# Za dataset\n",
    "BATCH_SIZE_PER_REPLICA = 64\n",
    "BATCH_SIZE = BATCH_SIZE_PER_REPLICA * strategy.num_replicas_in_sync\n",
    "BUFFER_SIZE = 20000\n",
    "\n",
    "# Parametri za transformer\n",
    "NUM_LAYERS = 4\n",
    "D_MODEL = 512\n",
    "NUM_HEADS = 8\n",
    "UNITS = 512\n",
    "DROPOUT = 0.1\n",
    "\n",
    "# Broj epoha\n",
    "EPOCHS = 40"
   ]
  },
  {
   "cell_type": "markdown",
   "id": "5a4c14ef",
   "metadata": {},
   "source": [
    "# Podaci za treniranje"
   ]
  },
  {
   "cell_type": "markdown",
   "id": "0ed2fccf",
   "metadata": {},
   "source": [
    "Set podataka koji ćemo koristiti je [Cornell Movie-Dialogs Corpus](https://www.cs.cornell.edu/~cristian/Cornell_Movie-Dialogs_Corpus.html), koji sadrži više od 220,000 filmskih dijaloga.\n",
    "\n",
    "Sam dataset se sastoji od datoteka\n",
    "1. movie_conversations.txt - datoteka koja sadrži listu identifikacijskih ključeva (ID) razgovora\n",
    "2. movie_lines.txt - datoteka koja sadrži sam tekst razgovora asociranog sa nekim identifikacijskim ključem\n",
    "\n"
   ]
  },
  {
   "cell_type": "code",
   "execution_count": 5,
   "id": "8329f7dd",
   "metadata": {},
   "outputs": [],
   "source": [
    "path_to_zip = tf.keras.utils.get_file(\n",
    "    \"cornell_movie_dialogs.zip\",\n",
    "    origin=\"http://www.cs.cornell.edu/~cristian/data/cornell_movie_dialogs_corpus.zip\",\n",
    "    extract=True,\n",
    ")\n",
    "\n",
    "path_to_dataset = os.path.join(\n",
    "    os.path.dirname(path_to_zip), \"cornell movie-dialogs corpus\"\n",
    ")\n",
    "\n",
    "path_to_movie_lines = os.path.join(path_to_dataset, \"movie_lines.txt\")\n",
    "path_to_movie_conversations = os.path.join(path_to_dataset, \"movie_conversations.txt\")"
   ]
  },
  {
   "cell_type": "markdown",
   "id": "a866344d",
   "metadata": {},
   "source": [
    "Promotrimo sadržaje datoteka. U tu svrhu, prvo definirajmo funkciju koja čita prvih par redaka datoteka."
   ]
  },
  {
   "cell_type": "code",
   "execution_count": 6,
   "id": "a95c01ed",
   "metadata": {},
   "outputs": [],
   "source": [
    "def read_first_lines(filename, limit):\n",
    "  result = []\n",
    "  with open(filename, 'r') as input_file:\n",
    "    # datoteke su iterabilne\n",
    "    for line_number, line in enumerate(input_file):\n",
    "      if line_number > limit:  # line_number počinje u 0\n",
    "        break\n",
    "      result.append(line)\n",
    "  return result"
   ]
  },
  {
   "cell_type": "markdown",
   "id": "372174e2",
   "metadata": {},
   "source": [
    "Tako je sadržaj datoteke __movie_lines.txt__ oblika"
   ]
  },
  {
   "cell_type": "code",
   "execution_count": 7,
   "id": "12b3f9f8",
   "metadata": {
    "scrolled": true
   },
   "outputs": [
    {
     "name": "stdout",
     "output_type": "stream",
     "text": [
      "L1045 +++$+++ u0 +++$+++ m0 +++$+++ BIANCA +++$+++ They do not!\n",
      "\n",
      "L1044 +++$+++ u2 +++$+++ m0 +++$+++ CAMERON +++$+++ They do to!\n",
      "\n",
      "L985 +++$+++ u0 +++$+++ m0 +++$+++ BIANCA +++$+++ I hope so.\n",
      "\n",
      "L984 +++$+++ u2 +++$+++ m0 +++$+++ CAMERON +++$+++ She okay?\n",
      "\n",
      "L925 +++$+++ u0 +++$+++ m0 +++$+++ BIANCA +++$+++ Let's go.\n",
      "\n",
      "L924 +++$+++ u2 +++$+++ m0 +++$+++ CAMERON +++$+++ Wow\n",
      "\n"
     ]
    }
   ],
   "source": [
    "print(*read_first_lines(path_to_movie_lines,5), sep='\\n')"
   ]
  },
  {
   "cell_type": "markdown",
   "id": "d96feb34",
   "metadata": {},
   "source": [
    "A sadržaj datoteke __movie_conversations.txt__ je oblika"
   ]
  },
  {
   "cell_type": "code",
   "execution_count": 8,
   "id": "d67eceb9",
   "metadata": {},
   "outputs": [
    {
     "name": "stdout",
     "output_type": "stream",
     "text": [
      "u0 +++$+++ u2 +++$+++ m0 +++$+++ ['L194', 'L195', 'L196', 'L197']\n",
      "\n",
      "u0 +++$+++ u2 +++$+++ m0 +++$+++ ['L198', 'L199']\n",
      "\n",
      "u0 +++$+++ u2 +++$+++ m0 +++$+++ ['L200', 'L201', 'L202', 'L203']\n",
      "\n",
      "u0 +++$+++ u2 +++$+++ m0 +++$+++ ['L204', 'L205', 'L206']\n",
      "\n",
      "u0 +++$+++ u2 +++$+++ m0 +++$+++ ['L207', 'L208']\n",
      "\n",
      "u0 +++$+++ u2 +++$+++ m0 +++$+++ ['L271', 'L272', 'L273', 'L274', 'L275']\n",
      "\n"
     ]
    }
   ],
   "source": [
    "print(*read_first_lines(path_to_movie_conversations,5), sep='\\n')"
   ]
  },
  {
   "cell_type": "markdown",
   "id": "df543cab",
   "metadata": {},
   "source": [
    "## Učitavanje i preprocesiranje podataka"
   ]
  },
  {
   "cell_type": "markdown",
   "id": "a6c63326",
   "metadata": {},
   "source": [
    "Prvo ćemo definitrati funkciju za preprocesiranje podataka __preprocess_sentence__ . \n",
    "Ona preprocesira svaku rečenicu uklanjanjem posebnih znakova u njoj.\n",
    "Taj proces ima više koraka: \n",
    "1. stvara razmak između riječi i interpunkcije iza nje, npr. \"he is smart.\" => \"he is smart .\"\n",
    "    \n",
    "2. produljenje skraćenica (kontrakcija) iz engleskog jezika, npr. \"i'm\" => \"i am\"\n",
    "\n",
    "3. mijenjanje svih znakova koji nisu u skupu (a-z, A-Z, \".\", \"?\", \"!\", \",\") sa znakom razmaka."
   ]
  },
  {
   "cell_type": "code",
   "execution_count": 9,
   "id": "f9898360",
   "metadata": {},
   "outputs": [],
   "source": [
    "def preprocess_sentence(sentence):\n",
    "    sentence = sentence.lower().strip()\n",
    "    # korak 1\n",
    "    sentence = re.sub(r\"([?.!,])\", r\" \\1 \", sentence)\n",
    "    sentence = re.sub(r'[\" \"]+', \" \", sentence)\n",
    "    # korak 2\n",
    "    sentence = re.sub(r\"i'm\", \"i am\", sentence)\n",
    "    sentence = re.sub(r\"he's\", \"he is\", sentence)\n",
    "    sentence = re.sub(r\"she's\", \"she is\", sentence)\n",
    "    sentence = re.sub(r\"it's\", \"it is\", sentence)\n",
    "    sentence = re.sub(r\"that's\", \"that is\", sentence)\n",
    "    sentence = re.sub(r\"what's\", \"that is\", sentence)\n",
    "    sentence = re.sub(r\"where's\", \"where is\", sentence)\n",
    "    sentence = re.sub(r\"how's\", \"how is\", sentence)\n",
    "    sentence = re.sub(r\"\\'ll\", \" will\", sentence)\n",
    "    sentence = re.sub(r\"\\'ve\", \" have\", sentence)\n",
    "    sentence = re.sub(r\"\\'re\", \" are\", sentence)\n",
    "    sentence = re.sub(r\"\\'d\", \" would\", sentence)\n",
    "    sentence = re.sub(r\"\\'re\", \" are\", sentence)\n",
    "    sentence = re.sub(r\"won't\", \"will not\", sentence)\n",
    "    sentence = re.sub(r\"can't\", \"cannot\", sentence)\n",
    "    sentence = re.sub(r\"n't\", \" not\", sentence)\n",
    "    sentence = re.sub(r\"n'\", \"ng\", sentence)\n",
    "    sentence = re.sub(r\"'bout\", \"about\", sentence)\n",
    "    # korak 3\n",
    "    sentence = re.sub(r\"[^a-zA-Z?.!,]+\", \" \", sentence)\n",
    "    sentence = sentence.strip()\n",
    "    return sentence"
   ]
  },
  {
   "cell_type": "markdown",
   "id": "37b1c71a",
   "metadata": {},
   "source": [
    "Pri treniranju na podacima je potrebno izvesti i dodatno pretprocesiranje podataka: u dokumentima skupa podataka je, uz linijski prikaz podatka, znak \"++\\$++\" korišten kao separator podataka u linijama dokumenta.\n",
    "\n",
    "Kako bi pravilno učitali podatke za treniranje kao parove filmskih replika, svaki par filmskih replika gdje jedna odgovara na drugu u razgovoru dijelimo na upit (eng. question) i odgovor (eng. answer).\n",
    "\n",
    "Kako bi dodatno pretprocesirali skup podataka, definiramo funkciju __load_conversations__ . "
   ]
  },
  {
   "cell_type": "code",
   "execution_count": 10,
   "id": "47a772a2",
   "metadata": {},
   "outputs": [],
   "source": [
    "def load_conversations():\n",
    "    # konstruiraj riječnik sa ključem (ID) filmske replike na vrijednost teksta filmske replike\n",
    "    id2line = {}\n",
    "    ## učitani tekst datoteke movie_lines.txt razdvoji u listu po linijama teksta \n",
    "    with open(path_to_movie_lines, errors=\"ignore\") as file:\n",
    "        lines = file.readlines()\n",
    "        \n",
    "    ## iz svake linije teksta izdvoji informacije\n",
    "    ### makni \\n znak za idući red iz teksta\n",
    "    ### razdvoji svaku liniju teksta sa obzirom na separator \" +++$+++ \"\n",
    "    for line in lines:\n",
    "        parts = line.replace(\"\\n\", \"\").split(\" +++$+++ \")\n",
    "        id2line[parts[0]] = parts[4]\n",
    "\n",
    "    #izdvoji parove filmskih replika na popis pitanja (eng. questions) i odgovora (eng. answers).\n",
    "    inputs, outputs = [], []\n",
    "    ## učitani tekst datoteke movie_conversations.txt razdvoji u listu po linijama teksta \n",
    "    with open(path_to_movie_conversations, \"r\") as file:\n",
    "        lines = file.readlines()\n",
    "    ## iz svake linije teksta izdvoji informacije o razgovoru\n",
    "    ### makni \\n znak za idući red iz teksta\n",
    "    ### razdvoji svaku liniju teksta sa obzirom na separator \" +++$+++ \"\n",
    "    ### dohvati razgovor po listi identifikacijskih ključeva filmskih replika\n",
    "    #### preprocesiraj tekst filmske replike koristeći prethodno definiranu funkciju preprocess_sentence(sentence)\n",
    "    #### kada je dohvaćen maksimalan definiran broj parova filmskih replika na kojima će se model trenirati, stani\n",
    "    for line in lines:\n",
    "        parts = line.replace(\"\\n\", \"\").split(\" +++$+++ \")\n",
    "        conversation = [line[1:-1] for line in parts[3][1:-1].split(\", \")]\n",
    "        for i in range(len(conversation) - 1):\n",
    "            inputs.append(preprocess_sentence(id2line[conversation[i]]))\n",
    "            outputs.append(preprocess_sentence(id2line[conversation[i + 1]]))\n",
    "            if len(inputs) >= MAX_SAMPLES:\n",
    "                return inputs, outputs\n",
    "    \n",
    "    # vrati skupove pitanja i odgovora\n",
    "    return inputs, outputs"
   ]
  },
  {
   "cell_type": "markdown",
   "id": "2a455c57",
   "metadata": {},
   "source": [
    "Sada možemo pozvati funkciju __load_conversations__, te tako dobiti učitane i preprocesirane upite i odgovore.\n",
    "\n",
    "Dobivene rezultate ćemo spremiti u liste nazvane __questions__ i __answers__."
   ]
  },
  {
   "cell_type": "code",
   "execution_count": 11,
   "id": "fbe17c51",
   "metadata": {},
   "outputs": [],
   "source": [
    "questions, answers = load_conversations()"
   ]
  },
  {
   "cell_type": "code",
   "execution_count": 12,
   "id": "54e0b598",
   "metadata": {},
   "outputs": [
    {
     "name": "stdout",
     "output_type": "stream",
     "text": [
      "Sample question: there .\n",
      "Sample answer: where ?\n"
     ]
    }
   ],
   "source": [
    "print(f\"Sample question: {questions[15]}\")\n",
    "print(f\"Sample answer: {answers[15]}\")"
   ]
  },
  {
   "cell_type": "markdown",
   "id": "78d1ee82",
   "metadata": {},
   "source": [
    "### Tokeniziranje"
   ]
  },
  {
   "cell_type": "markdown",
   "id": "dc886509",
   "metadata": {},
   "source": [
    "Proces tokeniziranja unosa se sastoji od idućih koraka:\n",
    "\n",
    "1. Konstruiramo tokenizer (preslikajte tekst u ID i ID u tekst) koristeći TensorFlow Datasets SubwordTextEncoder.\n",
    "2. Tokeniziramo svaku rečenicu."
   ]
  },
  {
   "cell_type": "markdown",
   "id": "c700c777",
   "metadata": {},
   "source": [
    "#### Gradnja tokenizera"
   ]
  },
  {
   "cell_type": "markdown",
   "id": "f9a386d1",
   "metadata": {},
   "source": [
    "Konstuiramo tokenizer koristeći tfds (TensorFlow Datasets SubwordTextEncoder) za liste pitanja i odgovora:"
   ]
  },
  {
   "cell_type": "code",
   "execution_count": 13,
   "id": "5768cce6",
   "metadata": {},
   "outputs": [],
   "source": [
    "tokenizer = tfds.deprecated.text.SubwordTextEncoder.build_from_corpus(\n",
    "    questions + answers, target_vocab_size=2**13\n",
    ")"
   ]
  },
  {
   "cell_type": "code",
   "execution_count": 14,
   "id": "04d5bf87",
   "metadata": {},
   "outputs": [
    {
     "name": "stdout",
     "output_type": "stream",
     "text": [
      "Tokenized sample question: [119, 1]\n"
     ]
    }
   ],
   "source": [
    "print(f\"Tokenized sample question: {tokenizer.encode(questions[15])}\")"
   ]
  },
  {
   "cell_type": "markdown",
   "id": "f345f357",
   "metadata": {},
   "source": [
    "#### Tokeniziramo svaku rečenicu"
   ]
  },
  {
   "cell_type": "markdown",
   "id": "17cca3fc",
   "metadata": {},
   "source": [
    "Definiramo početni i završni token za označavanje početka i kraja rečenice.\n",
    "\n",
    "Definiramo varijablu _VOCAB_SIZE_ koja označava veličinu vokabulara tokenizera, sa pribrojenim +2 za \"razumijevanje\" počtnog i završnog tokena."
   ]
  },
  {
   "cell_type": "code",
   "execution_count": 15,
   "id": "a5374fa2",
   "metadata": {},
   "outputs": [],
   "source": [
    "START_TOKEN, END_TOKEN = [tokenizer.vocab_size], [tokenizer.vocab_size + 1]\n",
    "VOCAB_SIZE = tokenizer.vocab_size + 2"
   ]
  },
  {
   "cell_type": "markdown",
   "id": "4bdd0b76",
   "metadata": {},
   "source": [
    "Tokeniziranje samo po sebi sadrži iduće korake: \n",
    "\n",
    "1. Dodajemo START_TOKEN i END_TOKEN da označimo početak i kraj svake rečenice.\n",
    "2. Filtriramo rečenicu koja ima više od MAX_LENGTH tokena.\n",
    "3. Dopunimo tokenizirane rečenice do duljine MAX_LENGTH\n",
    "\n",
    "Definiramo taj proces u funkciji __tokenize_and_filter__"
   ]
  },
  {
   "cell_type": "code",
   "execution_count": 16,
   "id": "0407c513",
   "metadata": {},
   "outputs": [],
   "source": [
    "def tokenize_and_filter(inputs, outputs):\n",
    "    tokenized_inputs, tokenized_outputs = [], []\n",
    "\n",
    "    for (sentence1, sentence2) in zip(inputs, outputs):\n",
    "        \n",
    "        # korak 1\n",
    "        sentence1 = START_TOKEN + tokenizer.encode(sentence1) + END_TOKEN\n",
    "        sentence2 = START_TOKEN + tokenizer.encode(sentence2) + END_TOKEN\n",
    "        \n",
    "        # korak 2\n",
    "        if len(sentence1) <= MAX_LENGTH and len(sentence2) <= MAX_LENGTH:\n",
    "            tokenized_inputs.append(sentence1)\n",
    "            tokenized_outputs.append(sentence2)\n",
    "\n",
    "    # korak 3\n",
    "    tokenized_inputs = tf.keras.preprocessing.sequence.pad_sequences(\n",
    "        tokenized_inputs, maxlen=MAX_LENGTH, padding=\"post\"\n",
    "    )\n",
    "    tokenized_outputs = tf.keras.preprocessing.sequence.pad_sequences(\n",
    "        tokenized_outputs, maxlen=MAX_LENGTH, padding=\"post\"\n",
    "    )\n",
    "\n",
    "    return tokenized_inputs, tokenized_outputs"
   ]
  },
  {
   "cell_type": "markdown",
   "id": "bb4dec89",
   "metadata": {},
   "source": [
    "Sada završno, primjenom funkcije na liste __questions__ i __answers__ možemo dobiti "
   ]
  },
  {
   "cell_type": "code",
   "execution_count": 17,
   "id": "2900922a",
   "metadata": {},
   "outputs": [],
   "source": [
    "questions, answers = tokenize_and_filter(questions, answers)"
   ]
  },
  {
   "cell_type": "markdown",
   "id": "cadbc189",
   "metadata": {},
   "source": [
    "Promotrimo sada veličin rječnika i broj primjera."
   ]
  },
  {
   "cell_type": "code",
   "execution_count": 18,
   "id": "242991e6",
   "metadata": {},
   "outputs": [
    {
     "name": "stdout",
     "output_type": "stream",
     "text": [
      "Vocab size: 8247\n",
      "Number of samples: 194612\n"
     ]
    }
   ],
   "source": [
    "print(f\"Vocab size: {VOCAB_SIZE}\")\n",
    "print(f\"Number of samples: {len(questions)}\")"
   ]
  },
  {
   "cell_type": "markdown",
   "id": "ea303c7b",
   "metadata": {},
   "source": [
    "## Stvaranje tf.data.Dataset"
   ]
  },
  {
   "cell_type": "markdown",
   "id": "035fd573",
   "metadata": {},
   "source": [
    "Koristit ćemo [tf.data.Dataset API](https://www.tensorflow.org/api_docs/python/tf/data) za konstruiranje našeg ulaznog cjevovoda kako bismo iskoristili značajke kao što su predmemorija i prefetching kako bismo ubrzali proces treniranja modela.\n",
    "\n",
    "Transformator je auto-regresivni model: predviđa jedan po jedan dio i koristi svoj dosadašnji izlaz da odluči što dalje.\n",
    "\n",
    "Tijekom treninga ovaj primjer koristi metodu _teacher-forcing_. \n",
    "_Teacher-forcing_ je prosljeđivanje pravog izlaza na sljedeći vremenski korak bez obzira na to što model predviđa u trenutnom vremenskom koraku.\n",
    "\n",
    "Kako transformator predviđa svaku riječ, samopažnja mu omogućuje da pogleda prethodne riječi u rečenici unosa kako bi bolje predvidio sljedeću riječ.\n",
    "\n",
    "Kako bi se spriječilo da model dostigne samo očekivani rezultat, model koristi look-ahead masku.\n",
    "\n",
    "Target je podijeljen na _decoder_inputs_ koji se dodaju kao ulaz u dekoder, i _cropped_targets_ za izračun našeg gubitka i točnosti."
   ]
  },
  {
   "cell_type": "markdown",
   "id": "fb002a88",
   "metadata": {},
   "source": [
    "Unosi dekodera koriste prethodni target kao unos. \n",
    "Uklanja START_TOKEN sa targeta."
   ]
  },
  {
   "cell_type": "code",
   "execution_count": 19,
   "id": "a2e1f71e",
   "metadata": {},
   "outputs": [],
   "source": [
    "dataset = tf.data.Dataset.from_tensor_slices(\n",
    "    (\n",
    "        {\"inputs\": questions, \"dec_inputs\": answers[:, :-1]},\n",
    "        {\"outputs\": answers[:, 1:]},\n",
    "    )\n",
    ")\n",
    "\n",
    "dataset = dataset.cache()\n",
    "dataset = dataset.shuffle(BUFFER_SIZE)\n",
    "dataset = dataset.batch(BATCH_SIZE)\n",
    "dataset = dataset.prefetch(tf.data.AUTOTUNE)"
   ]
  },
  {
   "cell_type": "code",
   "execution_count": 20,
   "id": "9b94337a",
   "metadata": {},
   "outputs": [
    {
     "name": "stdout",
     "output_type": "stream",
     "text": [
      "<PrefetchDataset element_spec=({'inputs': TensorSpec(shape=(None, 40), dtype=tf.int32, name=None), 'dec_inputs': TensorSpec(shape=(None, 39), dtype=tf.int32, name=None)}, {'outputs': TensorSpec(shape=(None, 39), dtype=tf.int32, name=None)})>\n"
     ]
    }
   ],
   "source": [
    "print(dataset)"
   ]
  },
  {
   "cell_type": "markdown",
   "id": "140c7a24",
   "metadata": {},
   "source": [
    "## Mehanizam pažnje"
   ]
  },
  {
   "cell_type": "markdown",
   "id": "eee56193",
   "metadata": {},
   "source": [
    "### Pažnja skalarnog produkta\n",
    "\n",
    "Autori su verziju generalnog mehanizma pažnje korištene u originalnoj arhitekturi transformer modela nazvali pažnjom skalarnog produkta (eng. \\textit{scaled dot-product attention}). \n",
    "\n",
    "Funkcija pažnje koji koristi neuronska mreža transformer tako uzima tri ulaza: vrijednost upita $q$, vektor ključeva $\\overrightarrow{k}$ dimenzije $d_k$ i vektor vrijednosti $\\overrightarrow{v}$ dimenzije $d_v$. Vrijednost pondera $\\alpha_j$ vrijednosti $v_j$, gdje je $j \\in \\{ 1, \\dots , d_v \\} $, tako računamo kao primjenu $softmax()$ funkcije na skalarni umnožak upita $q$ sa vektorom $\\overrightarrow{k}$ svih ključeva podijeljen sa vrijednosti $\\sqrt{d_k}$. Skalarni umnožak upita i vektora ključeva se dijeli sa korijenom dimenzije $d_k$ jer za velike dimenzije vektora ključa skalarni umnožak postaje ogroman, što čini $softmax_k()$ funkciju manje preciznom.\n",
    "\n",
    "$$\\alpha_{j}=softmax_k(\\frac{q\\overrightarrow{k}^T}{\\sqrt{d_k}}), \\qquad \\text{gdje je} \\; j \\in \\{ 1, \\dots , d_v \\} $$\n",
    "\n",
    "Pa bi funkcija pažnje izgledala kao: \n",
    "$$Attention(q, \\overrightarrow{k}, \\overrightarrow{v})=\\sum^{d_v}_{i=1}\\alpha_{j}v_j, \\qquad \\text{gdje je} \\; j \\in \\{ 1, \\dots , d_v \\} $$\n",
    "\n",
    "U praksi, račun težina se izvodi tako da se funkcija pažnje izvodi na mnogo upita istovremeno. Izrazimo li tako niz upita kao matricu $Q$, te vektore ključeva i pripadnih vrijednosti kao matrice $K$ i $V$ redom, za račun funkcije pažnje možemo izraziti i kao: \n",
    "\n",
    "$$\\Large{Attention(Q, K, V) = softmax_k(\\frac{QK^T}{\\sqrt{d_k}}) V} $$\n",
    "\n",
    "Kako bi se programski implementirao mehanizam pažnje skalarnog produkta, u programu se definira pomoćna funkcija `scaled_dot_product_attention(query, key, value, mask)`.\n",
    "\n",
    "Sa obzirom da smo pri izradi chatbot programa za normalizaciju unosa koristili tokene za popunjavanje, potrebno ih je nulirati prije računa mehanizma pažnje. Kako bi nulirali takve ćelije, korisno je primjetiti da su veliki negativni ulazi u funkciju $softmax()$ blizu nule u izlazu.\n",
    "\n",
    "Maska se tako množi sa iznosom $-1e9$ (što je blizu negativne beskonačnosti). To je učinjeno jer se maska zbraja s skaliranim matričnim množenjem $\\frac{QK^T}{\\sqrt{d_k}}$ i primjenjuje se neposredno prije ulaza u funkciju $softmax()$."
   ]
  },
  {
   "cell_type": "code",
   "execution_count": 21,
   "id": "c1c018ba",
   "metadata": {},
   "outputs": [],
   "source": [
    "def scaled_dot_product_attention(query, key, value, mask):\n",
    "    \"\"\"Izračunaj težinske vrijednosti pažnje\"\"\"\n",
    "    matmul_qk = tf.matmul(query, key, transpose_b=True)\n",
    "\n",
    "    # skaliraj matmul_qk\n",
    "    depth = tf.cast(tf.shape(key)[-1], tf.float32)\n",
    "    logits = matmul_qk / tf.math.sqrt(depth)\n",
    "\n",
    "    # dodajte masku za nuliranje tokena za popunjavanje\n",
    "    if mask is not None:\n",
    "        logits += mask * -1e9\n",
    "\n",
    "    # softmax je normaliziran na zadnjoj osi (seq_len_k)\n",
    "    attention_weights = tf.nn.softmax(logits, axis=-1)\n",
    "\n",
    "    output = tf.matmul(attention_weights, value)\n",
    "\n",
    "    return output"
   ]
  },
  {
   "cell_type": "markdown",
   "id": "b8c66de9",
   "metadata": {},
   "source": [
    "### Pažnja s više glava\n",
    "\n",
    "<img src=\"https://www.tensorflow.org/images/tutorials/transformer/multi_head_attention.png\" width=\"500\" alt=\"pozornost s više glava\">\n",
    "\n",
    "\n",
    "Pažnja s više glava sastoji se od četiri dijela:\n",
    "\n",
    "* Linearnih slojeva podijeljenih u glave - Svaki blok pažnje s više glava dobiva tri ulaza: upit $Q$, ključ $K$ i vrijednost $V$. Oni su ulazi linearnih (eng. `Dense`) slojeva neuronske mreže, i dijele na više „glava”.Umjesto jedne glave pozornosti, \"upit\", \"ključ\" i \"vrijednost\" su podijeljeni u više glava jer to omogućuje modelu da zajedno prati informacije na različitim pozicijama iz različitih reprezentativnih prostora. \n",
    "\n",
    "\n",
    "* Pažnju skalarnog produkta - Nakon podjele ulaznih vrijednosti, svaka „glava” je smanjene dimenzije, pa je ukupni trošak izračuna mehanizma pažnje isti kao račun mehanizma pažnje sa samo jednom glavom pune dimenzionalnosti. Gore definirana funkcija `scaled_dot_product_attention(query, key, value, mask)` se primjenjuje na svaku glavu zasebno. Pri svakom koraku mehanizma pažnje se mora koristiti odgovarajuća maska. \n",
    "\n",
    "\n",
    "* Konkatenciju izlaznih vrijednosti glava - Izlazi mehanizma pažnje za svaku glavu se zatim konkateniraju (pomoću `tf.transpose` i `tf.reshape`).\n",
    "\n",
    "\n",
    "* Završni linearni sloj - Vrijednost konkatenacije izlaznih vrijednostnih glava zatim prolazi kroz završni, linearni (eng. `Dense`) sloj."
   ]
  },
  {
   "cell_type": "code",
   "execution_count": 22,
   "id": "ac933034",
   "metadata": {},
   "outputs": [],
   "source": [
    "class MultiHeadAttentionLayer(tf.keras.layers.Layer):\n",
    "    def __init__(self, d_model, num_heads, **kwargs):\n",
    "        assert d_model % num_heads == 0\n",
    "        super(MultiHeadAttentionLayer, self).__init__(**kwargs)\n",
    "        self.num_heads = num_heads\n",
    "        self.d_model = d_model\n",
    "\n",
    "        self.depth = d_model // self.num_heads\n",
    "\n",
    "        self.query_dense = tf.keras.layers.Dense(units=d_model)\n",
    "        self.key_dense = tf.keras.layers.Dense(units=d_model)\n",
    "        self.value_dense = tf.keras.layers.Dense(units=d_model)\n",
    "\n",
    "        self.dense = tf.keras.layers.Dense(units=d_model)\n",
    "\n",
    "    def get_config(self):\n",
    "        config = super(MultiHeadAttentionLayer, self).get_config()\n",
    "        config.update(\n",
    "            {\n",
    "                \"num_heads\": self.num_heads,\n",
    "                \"d_model\": self.d_model,\n",
    "            }\n",
    "        )\n",
    "        return config\n",
    "\n",
    "    def split_heads(self, inputs, batch_size):\n",
    "        inputs = tf.keras.layers.Lambda(\n",
    "            lambda inputs: tf.reshape(\n",
    "                inputs, shape=(batch_size, -1, self.num_heads, self.depth)\n",
    "            )\n",
    "        )(inputs)\n",
    "        return tf.keras.layers.Lambda(\n",
    "            lambda inputs: tf.transpose(inputs, perm=[0, 2, 1, 3])\n",
    "        )(inputs)\n",
    "\n",
    "    def call(self, inputs):\n",
    "        query, key, value, mask = (\n",
    "            inputs[\"query\"],\n",
    "            inputs[\"key\"],\n",
    "            inputs[\"value\"],\n",
    "            inputs[\"mask\"],\n",
    "        )\n",
    "        batch_size = tf.shape(query)[0]\n",
    "\n",
    "        # linear layers\n",
    "        query = self.query_dense(query)\n",
    "        key = self.key_dense(key)\n",
    "        value = self.value_dense(value)\n",
    "\n",
    "        # split heads\n",
    "        query = self.split_heads(query, batch_size)\n",
    "        key = self.split_heads(key, batch_size)\n",
    "        value = self.split_heads(value, batch_size)\n",
    "\n",
    "        # scaled dot-product attention\n",
    "        scaled_attention = scaled_dot_product_attention(query, key, value, mask)\n",
    "        scaled_attention = tf.keras.layers.Lambda(\n",
    "            lambda scaled_attention: tf.transpose(scaled_attention, perm=[0, 2, 1, 3])\n",
    "        )(scaled_attention)\n",
    "\n",
    "        # concatenation of heads\n",
    "        concat_attention = tf.keras.layers.Lambda(\n",
    "            lambda scaled_attention: tf.reshape(\n",
    "                scaled_attention, (batch_size, -1, self.d_model)\n",
    "            )\n",
    "        )(scaled_attention)\n",
    "\n",
    "        # final linear layer\n",
    "        outputs = self.dense(concat_attention)\n",
    "\n",
    "        return outputs"
   ]
  },
  {
   "cell_type": "markdown",
   "id": "08d4487f",
   "metadata": {},
   "source": [
    "## Transformer"
   ]
  },
  {
   "cell_type": "markdown",
   "id": "e4ebbb4c",
   "metadata": {},
   "source": [
    "### Maskiranje\n",
    "\n",
    "`create_padding_mask` i `create_look_ahead` pomoćne su funkcije za stvaranje maski za maskiranje podstavljenih tokena, te ćemo pomoćne funkcije koristiti kao slojeve `tf.keras.layers.Lambda`.\n",
    "\n",
    "Maskirajte sve tokene podloška (vrijednost `0`) u seriji kako biste osigurali da model ne tretira podmetanje kao ulaz."
   ]
  },
  {
   "cell_type": "code",
   "execution_count": 23,
   "id": "56efbc48",
   "metadata": {},
   "outputs": [],
   "source": [
    "def create_padding_mask(x):\n",
    "    mask = tf.cast(tf.math.equal(x, 0), tf.float32)\n",
    "    # (batch_size, 1, 1, sequence length)\n",
    "    return mask[:, tf.newaxis, tf.newaxis, :]"
   ]
  },
  {
   "cell_type": "markdown",
   "id": "1d452295",
   "metadata": {},
   "source": [
    "Maska unaprijed za maskiranje budućih tokena u nizu.\n",
    "Također maskiramo pad tokene.\n",
    "\n",
    "tj. Za predviđanje treće riječi koristit će se samo prva i druga riječ"
   ]
  },
  {
   "cell_type": "code",
   "execution_count": 25,
   "id": "542738fa",
   "metadata": {},
   "outputs": [],
   "source": [
    "def create_look_ahead_mask(x):\n",
    "    seq_len = tf.shape(x)[1]\n",
    "    look_ahead_mask = 1 - tf.linalg.band_part(tf.ones((seq_len, seq_len)), -1, 0)\n",
    "    padding_mask = create_padding_mask(x)\n",
    "    return tf.maximum(look_ahead_mask, padding_mask)"
   ]
  },
  {
   "cell_type": "markdown",
   "id": "e13f6026",
   "metadata": {},
   "source": [
    "### Pozicijsko kodiranje\n",
    "\n",
    "Budući da ovaj model ne sadrži nikakvo ponavljanje ili konvoluciju, dodano je poziciono kodiranje kako bi se modelu dale neke informacije o relativnom položaju riječi u rečenici.\n",
    "\n",
    "Pozicijski vektor za kodiranje dodaje se vektoru za ugradnju. Ugrađivanja predstavljaju token u d-dimenzionalnom prostoru gdje će tokeni sa sličnim značenjem biti bliži jedni drugima. Ali ugradnje ne kodiraju relativni položaj riječi u rečenici. Dakle, nakon dodavanja pozicionog kodiranja, riječi će biti bliže jedna drugoj na temelju *sličnosti njihovog značenja i njihovog položaja u rečenici*, u d-dimenzionalnom prostoru.\n",
    "\n",
    "Formula za izračunavanje položajnog kodiranja je sljedeća:\n",
    "\n",
    "$$\\Large{PE_{(pos, 2i)} = sin(pos / 10000^{2i / d_{model}})} $$\n",
    "$$\\Large{PE_{(pos, 2i+1)} = cos(pos / 10000^{2i / d_{model}})} $$"
   ]
  },
  {
   "cell_type": "code",
   "execution_count": 27,
   "id": "03ab8a08",
   "metadata": {},
   "outputs": [],
   "source": [
    "class PositionalEncoding(tf.keras.layers.Layer):\n",
    "    def __init__(self, position, d_model, **kwargs):\n",
    "        super(PositionalEncoding, self).__init__(**kwargs)\n",
    "        self.position = position\n",
    "        self.d_model = d_model\n",
    "        self.pos_encoding = self.positional_encoding(position, d_model)\n",
    "\n",
    "    def get_config(self):\n",
    "        config = super(PositionalEncoding, self).get_config()\n",
    "        config.update(\n",
    "            {\n",
    "                \"position\": self.position,\n",
    "                \"d_model\": self.d_model,\n",
    "            }\n",
    "        )\n",
    "        return config\n",
    "\n",
    "    def get_angles(self, position, i, d_model):\n",
    "        angles = 1 / tf.pow(10000, (2 * (i // 2)) / tf.cast(d_model, tf.float32))\n",
    "        return position * angles\n",
    "\n",
    "    def positional_encoding(self, position, d_model):\n",
    "        angle_rads = self.get_angles(\n",
    "            position=tf.range(position, dtype=tf.float32)[:, tf.newaxis],\n",
    "            i=tf.range(d_model, dtype=tf.float32)[tf.newaxis, :],\n",
    "            d_model=d_model,\n",
    "        )\n",
    "        # apply sin to even index in the array\n",
    "        sines = tf.math.sin(angle_rads[:, 0::2])\n",
    "        # apply cos to odd index in the array\n",
    "        cosines = tf.math.cos(angle_rads[:, 1::2])\n",
    "\n",
    "        pos_encoding = tf.concat([sines, cosines], axis=-1)\n",
    "        pos_encoding = pos_encoding[tf.newaxis, ...]\n",
    "        return tf.cast(pos_encoding, tf.float32)\n",
    "\n",
    "    def call(self, inputs):\n",
    "        return inputs + self.pos_encoding[:, : tf.shape(inputs)[1], :]"
   ]
  },
  {
   "cell_type": "code",
   "execution_count": 28,
   "id": "2698a855",
   "metadata": {},
   "outputs": [
    {
     "data": {
      "image/png": "[encoded data removed]",
      "text/plain": [
       "<Figure size 432x288 with 2 Axes>"
      ]
     },
     "metadata": {
      "needs_background": "light"
     },
     "output_type": "display_data"
    }
   ],
   "source": [
    "sample_pos_encoding = PositionalEncoding(50, 512, name=\"sample_pos_encoding\")\n",
    "\n",
    "plt.pcolormesh(sample_pos_encoding.pos_encoding.numpy()[0], cmap=\"RdBu\")\n",
    "plt.xlabel(\"Depth\")\n",
    "plt.xlim((0, 512))\n",
    "plt.ylabel(\"Position\")\n",
    "plt.colorbar()\n",
    "plt.show()"
   ]
  },
  {
   "cell_type": "markdown",
   "id": "020be3ad",
   "metadata": {},
   "source": [
    "### Sloj enkodera \n",
    "\n",
    "Svaki sloj enkodera sastoji se od podslojeva:\n",
    "\n",
    "1. Pažnja za više glava (s podstavljenom maskom)\n",
    "2. 2 gusta sloja nakon čega slijedi ispadanje\n",
    "\n",
    "Svaki od ovih podslojeva ima zaostalu vezu oko sebe nakon koje slijedi normalizacija sloja. Preostale veze pomažu u izbjegavanju problema s nestajanjem gradijenta u dubokim mrežama.\n",
    "\n",
    "Izlaz svakog podsloja je `LayerNorm(x + Sublayer(x))`. Normalizacija se vrši na osi `d_model` (zadnja)."
   ]
  },
  {
   "cell_type": "code",
   "execution_count": 29,
   "id": "cf7f3913",
   "metadata": {},
   "outputs": [],
   "source": [
    "def encoder_layer(units, d_model, num_heads, dropout, name=\"encoder_layer\"):\n",
    "    inputs = tf.keras.Input(shape=(None, d_model), name=\"inputs\")\n",
    "    padding_mask = tf.keras.Input(shape=(1, 1, None), name=\"padding_mask\")\n",
    "\n",
    "    attention = MultiHeadAttentionLayer(d_model, num_heads, name=\"attention\")(\n",
    "        {\"query\": inputs, \"key\": inputs, \"value\": inputs, \"mask\": padding_mask}\n",
    "    )\n",
    "    attention = tf.keras.layers.Dropout(rate=dropout)(attention)\n",
    "    add_attention = tf.keras.layers.add([inputs, attention])\n",
    "    attention = tf.keras.layers.LayerNormalization(epsilon=1e-6)(add_attention)\n",
    "\n",
    "    outputs = tf.keras.layers.Dense(units=units, activation=\"relu\")(attention)\n",
    "    outputs = tf.keras.layers.Dense(units=d_model)(outputs)\n",
    "    outputs = tf.keras.layers.Dropout(rate=dropout)(outputs)\n",
    "    add_attention = tf.keras.layers.add([attention, outputs])\n",
    "    outputs = tf.keras.layers.LayerNormalization(epsilon=1e-6)(add_attention)\n",
    "\n",
    "    return tf.keras.Model(inputs=[inputs, padding_mask], outputs=outputs, name=name)"
   ]
  },
  {
   "cell_type": "markdown",
   "id": "cca66345",
   "metadata": {},
   "source": [
    "### Enkoder\n",
    "\n",
    "Enkoder se sastoji od:\n",
    "1. Ugradnja unosa\n",
    "2. Pozicijsko kodiranje\n",
    "3. `num_layers` slojevi kodera\n",
    "\n",
    "Ulaz se stavlja kroz ugrađivanje koje se zbraja s pozicijskim kodiranjem. \n",
    "Izlaz ovog zbrajanja je ulaz u slojeve kodera. \n",
    "Izlaz kodera je ulaz u dekoder."
   ]
  },
  {
   "cell_type": "code",
   "execution_count": 30,
   "id": "a10df850",
   "metadata": {},
   "outputs": [],
   "source": [
    "def encoder(vocab_size, num_layers, units, d_model, num_heads, dropout, name=\"encoder\"):\n",
    "    inputs = tf.keras.Input(shape=(None,), name=\"inputs\")\n",
    "    padding_mask = tf.keras.Input(shape=(1, 1, None), name=\"padding_mask\")\n",
    "\n",
    "    embeddings = tf.keras.layers.Embedding(vocab_size, d_model)(inputs)\n",
    "    embeddings *= tf.keras.layers.Lambda(\n",
    "        lambda d_model: tf.math.sqrt(tf.cast(d_model, tf.float32))\n",
    "    )(d_model)\n",
    "    embeddings = PositionalEncoding(vocab_size, d_model)(embeddings)\n",
    "\n",
    "    outputs = tf.keras.layers.Dropout(rate=dropout)(embeddings)\n",
    "\n",
    "    for i in range(num_layers):\n",
    "        outputs = encoder_layer(\n",
    "            units=units,\n",
    "            d_model=d_model,\n",
    "            num_heads=num_heads,\n",
    "            dropout=dropout,\n",
    "            name=\"encoder_layer_{}\".format(i),\n",
    "        )([outputs, padding_mask])\n",
    "\n",
    "    return tf.keras.Model(inputs=[inputs, padding_mask], outputs=outputs, name=name)"
   ]
  },
  {
   "cell_type": "markdown",
   "id": "f06aedb1",
   "metadata": {},
   "source": [
    "### Sloj dekodera\n",
    "\n",
    "Svaki sloj dekodera sastoji se od podslojeva:\n",
    "\n",
    "1. Maskirana pažnja s više glava (s maskom za pogled unaprijed i maskom za podstavu)\n",
    "2. Pažnja za više glava (s podstavnom maskom). `vrijednost` i `ključ` primaju *izlaz kodera* kao ulaze. `upit` prima *izlaz iz maskiranog podsloja pažnje s više glava.*\n",
    "3. 2 gusta sloja nakon čega slijedi ispadanje\n",
    "\n",
    "Svaki od ovih podslojeva ima zaostalu vezu oko sebe nakon koje slijedi normalizacija sloja. Izlaz svakog podsloja je `LayerNorm(x + Sublayer(x))`. Normalizacija se vrši na osi `d_model` (zadnja).\n",
    "\n",
    "Kako `query` prima izlaz iz prvog bloka pozornosti dekodera, a `key` prima izlaz kodera, težine pažnje predstavljaju važnost koja se pridaje ulazu dekodera na temelju izlaza kodera. Drugim riječima, dekoder predviđa sljedeću riječ gledajući izlaz kodera i samostalno prateći svoj izlaz. Pogledajte gornju demonstraciju u odjeljku pozornosti na skalirani točkasti proizvod."
   ]
  },
  {
   "cell_type": "code",
   "execution_count": 31,
   "id": "edaa708b",
   "metadata": {},
   "outputs": [],
   "source": [
    "def decoder_layer(units, d_model, num_heads, dropout, name=\"decoder_layer\"):\n",
    "    inputs = tf.keras.Input(shape=(None, d_model), name=\"inputs\")\n",
    "    enc_outputs = tf.keras.Input(shape=(None, d_model), name=\"encoder_outputs\")\n",
    "    look_ahead_mask = tf.keras.Input(shape=(1, None, None), name=\"look_ahead_mask\")\n",
    "    padding_mask = tf.keras.Input(shape=(1, 1, None), name=\"padding_mask\")\n",
    "\n",
    "    attention1 = MultiHeadAttentionLayer(d_model, num_heads, name=\"attention_1\")(\n",
    "        inputs={\n",
    "            \"query\": inputs,\n",
    "            \"key\": inputs,\n",
    "            \"value\": inputs,\n",
    "            \"mask\": look_ahead_mask,\n",
    "        }\n",
    "    )\n",
    "    add_attention = tf.keras.layers.add([attention1, inputs])\n",
    "    attention1 = tf.keras.layers.LayerNormalization(epsilon=1e-6)(add_attention)\n",
    "\n",
    "    attention2 = MultiHeadAttentionLayer(d_model, num_heads, name=\"attention_2\")(\n",
    "        inputs={\n",
    "            \"query\": attention1,\n",
    "            \"key\": enc_outputs,\n",
    "            \"value\": enc_outputs,\n",
    "            \"mask\": padding_mask,\n",
    "        }\n",
    "    )\n",
    "    attention2 = tf.keras.layers.Dropout(rate=dropout)(attention2)\n",
    "    add_attention = tf.keras.layers.add([attention2, attention1])\n",
    "    attention2 = tf.keras.layers.LayerNormalization(epsilon=1e-6)(add_attention)\n",
    "\n",
    "    outputs = tf.keras.layers.Dense(units=units, activation=\"relu\")(attention2)\n",
    "    outputs = tf.keras.layers.Dense(units=d_model)(outputs)\n",
    "    outputs = tf.keras.layers.Dropout(rate=dropout)(outputs)\n",
    "    add_attention = tf.keras.layers.add([outputs, attention2])\n",
    "    outputs = tf.keras.layers.LayerNormalization(epsilon=1e-6)(add_attention)\n",
    "\n",
    "    return tf.keras.Model(\n",
    "        inputs=[inputs, enc_outputs, look_ahead_mask, padding_mask],\n",
    "        outputs=outputs,\n",
    "        name=name,\n",
    "    )"
   ]
  },
  {
   "cell_type": "markdown",
   "id": "18847da9",
   "metadata": {},
   "source": [
    "### Dekoder\n",
    "\n",
    "Dekoder se sastoji od:\n",
    "1. Ugradnja izlaza\n",
    "2. Pozicijsko kodiranje\n",
    "3. N slojeva dekodera\n",
    "\n",
    "Cilj se stavlja kroz ugrađivanje koje se zbraja s položajnim kodiranjem. \n",
    "Izlaz ovog zbrajanja je ulaz u slojeve dekodera. \n",
    "Izlaz dekodera je ulaz u konačni linearni sloj."
   ]
  },
  {
   "cell_type": "code",
   "execution_count": 32,
   "id": "576d380d",
   "metadata": {},
   "outputs": [],
   "source": [
    "def decoder(vocab_size, num_layers, units, d_model, num_heads, dropout, name=\"decoder\"):\n",
    "    inputs = tf.keras.Input(shape=(None,), name=\"inputs\")\n",
    "    enc_outputs = tf.keras.Input(shape=(None, d_model), name=\"encoder_outputs\")\n",
    "    look_ahead_mask = tf.keras.Input(shape=(1, None, None), name=\"look_ahead_mask\")\n",
    "    padding_mask = tf.keras.Input(shape=(1, 1, None), name=\"padding_mask\")\n",
    "\n",
    "    embeddings = tf.keras.layers.Embedding(vocab_size, d_model)(inputs)\n",
    "    embeddings *= tf.keras.layers.Lambda(\n",
    "        lambda d_model: tf.math.sqrt(tf.cast(d_model, tf.float32))\n",
    "    )(d_model)\n",
    "    embeddings = PositionalEncoding(vocab_size, d_model)(embeddings)\n",
    "\n",
    "    outputs = tf.keras.layers.Dropout(rate=dropout)(embeddings)\n",
    "\n",
    "    for i in range(num_layers):\n",
    "        outputs = decoder_layer(\n",
    "            units=units,\n",
    "            d_model=d_model,\n",
    "            num_heads=num_heads,\n",
    "            dropout=dropout,\n",
    "            name=\"decoder_layer_{}\".format(i),\n",
    "        )(inputs=[outputs, enc_outputs, look_ahead_mask, padding_mask])\n",
    "\n",
    "    return tf.keras.Model(\n",
    "        inputs=[inputs, enc_outputs, look_ahead_mask, padding_mask],\n",
    "        outputs=outputs,\n",
    "        name=name,\n",
    "    )"
   ]
  },
  {
   "cell_type": "markdown",
   "id": "9085dcbd",
   "metadata": {},
   "source": [
    "### Transformer\n",
    "\n",
    "Transformer se sastoji od enkodera, dekodera i završnog linearnog sloja. Izlaz dekodera je ulaz u linearni sloj i njegov se izlaz vraća.\n"
   ]
  },
  {
   "cell_type": "code",
   "execution_count": 33,
   "id": "9e1f9ee5",
   "metadata": {},
   "outputs": [],
   "source": [
    "def transformer(\n",
    "    vocab_size, num_layers, units, d_model, num_heads, dropout, name=\"transformer\"\n",
    "):\n",
    "    inputs = tf.keras.Input(shape=(None,), name=\"inputs\")\n",
    "    dec_inputs = tf.keras.Input(shape=(None,), name=\"dec_inputs\")\n",
    "\n",
    "    enc_padding_mask = tf.keras.layers.Lambda(\n",
    "        create_padding_mask, output_shape=(1, 1, None), name=\"enc_padding_mask\"\n",
    "    )(inputs)\n",
    "    # mask the future tokens for decoder inputs at the 1st attention block\n",
    "    look_ahead_mask = tf.keras.layers.Lambda(\n",
    "        create_look_ahead_mask, output_shape=(1, None, None), name=\"look_ahead_mask\"\n",
    "    )(dec_inputs)\n",
    "    # mask the encoder outputs for the 2nd attention block\n",
    "    dec_padding_mask = tf.keras.layers.Lambda(\n",
    "        create_padding_mask, output_shape=(1, 1, None), name=\"dec_padding_mask\"\n",
    "    )(inputs)\n",
    "\n",
    "    enc_outputs = encoder(\n",
    "        vocab_size=vocab_size,\n",
    "        num_layers=num_layers,\n",
    "        units=units,\n",
    "        d_model=d_model,\n",
    "        num_heads=num_heads,\n",
    "        dropout=dropout,\n",
    "    )(inputs=[inputs, enc_padding_mask])\n",
    "\n",
    "    dec_outputs = decoder(\n",
    "        vocab_size=vocab_size,\n",
    "        num_layers=num_layers,\n",
    "        units=units,\n",
    "        d_model=d_model,\n",
    "        num_heads=num_heads,\n",
    "        dropout=dropout,\n",
    "    )(inputs=[dec_inputs, enc_outputs, look_ahead_mask, dec_padding_mask])\n",
    "\n",
    "    outputs = tf.keras.layers.Dense(units=vocab_size, name=\"outputs\")(dec_outputs)\n",
    "\n",
    "    return tf.keras.Model(inputs=[inputs, dec_inputs], outputs=outputs, name=name)"
   ]
  },
  {
   "cell_type": "markdown",
   "id": "77de8508",
   "metadata": {},
   "source": [
    "## Treniranje modela\n"
   ]
  },
  {
   "cell_type": "markdown",
   "id": "85aa0ac5",
   "metadata": {},
   "source": [
    "### Funkcija gubitka (loss function)\n",
    "\n",
    "Budući da su ciljne sekvence dopunjene, važno je primijeniti masku dopune pri izračunavanju gubitka."
   ]
  },
  {
   "cell_type": "code",
   "execution_count": 34,
   "id": "1e9bbb92",
   "metadata": {},
   "outputs": [],
   "source": [
    "def loss_function(y_true, y_pred):\n",
    "    y_true = tf.reshape(y_true, shape=(-1, MAX_LENGTH - 1))\n",
    "\n",
    "    loss = tf.keras.losses.SparseCategoricalCrossentropy(\n",
    "        from_logits=True, reduction=\"none\"\n",
    "    )(y_true, y_pred)\n",
    "\n",
    "    mask = tf.cast(tf.not_equal(y_true, 0), tf.float32)\n",
    "    loss = tf.multiply(loss, mask)\n",
    "\n",
    "    return tf.reduce_mean(loss)"
   ]
  },
  {
   "cell_type": "markdown",
   "id": "0b0a0990",
   "metadata": {},
   "source": [
    "### Prilagođena stopa učenja\n",
    "\n",
    "Upotrijebljen je Adamov optimizator s prilagođenim planerom brzine učenja prema formuli u [radu](https://arxiv.org/abs/1706.03762).\n",
    "\n",
    "$$\\Large{lrate = d_{model}^{-0.5} * min(step{\\_}num^{-0.5}, step{\\_}num * warmup{\\_}steps^{-1.5})}$$"
   ]
  },
  {
   "cell_type": "code",
   "execution_count": 35,
   "id": "2737ff7e",
   "metadata": {},
   "outputs": [],
   "source": [
    "class CustomSchedule(tf.keras.optimizers.schedules.LearningRateSchedule):\n",
    "    def __init__(self, d_model, warmup_steps=4000):\n",
    "        super(CustomSchedule, self).__init__()\n",
    "\n",
    "        self.d_model = tf.constant(d_model, dtype=tf.float32)\n",
    "        self.warmup_steps = warmup_steps\n",
    "\n",
    "    def get_config(self):\n",
    "        return {\"d_model\": self.d_model, \"warmup_steps\": self.warmup_steps}\n",
    "\n",
    "    def __call__(self, step):\n",
    "        arg1 = tf.math.rsqrt(step)\n",
    "        arg2 = step * (self.warmup_steps**-1.5)\n",
    "\n",
    "        return tf.math.multiply(\n",
    "            tf.math.rsqrt(self.d_model), tf.math.minimum(arg1, arg2)\n",
    "        )"
   ]
  },
  {
   "cell_type": "code",
   "execution_count": 36,
   "id": "0dea737a",
   "metadata": {},
   "outputs": [
    {
     "data": {
      "text/plain": [
       "Text(0.5, 0, 'Train Step')"
      ]
     },
     "execution_count": 36,
     "metadata": {},
     "output_type": "execute_result"
    },
    {
     "data": {
      "image/png": "[encoded data removed]",
      "text/plain": [
       "<Figure size 432x288 with 1 Axes>"
      ]
     },
     "metadata": {
      "needs_background": "light"
     },
     "output_type": "display_data"
    }
   ],
   "source": [
    "sample_learning_rate = CustomSchedule(d_model=128)\n",
    "\n",
    "plt.plot(sample_learning_rate(tf.range(200000, dtype=tf.float32)))\n",
    "plt.ylabel(\"Learning Rate\")\n",
    "plt.xlabel(\"Train Step\")"
   ]
  },
  {
   "cell_type": "markdown",
   "id": "c0865e11",
   "metadata": {},
   "source": [
    "Inicijalizirajmo i kompajlirajmo model s našom unaprijed definiranom prilagođenom stopom učenja i uključenim Adam optimizatorom."
   ]
  },
  {
   "cell_type": "code",
   "execution_count": 37,
   "id": "ab96700b",
   "metadata": {},
   "outputs": [],
   "source": [
    "# clear backend\n",
    "tf.keras.backend.clear_session()\n",
    "\n",
    "learning_rate = CustomSchedule(D_MODEL)\n",
    "\n",
    "optimizer = tf.keras.optimizers.Adam(\n",
    "    learning_rate, beta_1=0.9, beta_2=0.98, epsilon=1e-9\n",
    ")\n",
    "\n",
    "\n",
    "def accuracy(y_true, y_pred):\n",
    "    # ensure labels have shape (batch_size, MAX_LENGTH - 1)\n",
    "    y_true = tf.reshape(y_true, shape=(-1, MAX_LENGTH - 1))\n",
    "    return tf.keras.metrics.sparse_categorical_accuracy(y_true, y_pred)"
   ]
  },
  {
   "cell_type": "markdown",
   "id": "c486dbc9",
   "metadata": {},
   "source": [
    "Za korištenje strategije pri treniranju modela je dovoljno inicijalizirati i kompilirati objekt model\n",
    "unutar opsega strategije strategy.scope()."
   ]
  },
  {
   "cell_type": "code",
   "execution_count": 38,
   "id": "18965f36",
   "metadata": {},
   "outputs": [
    {
     "name": "stdout",
     "output_type": "stream",
     "text": [
      "INFO:tensorflow:Reduce to /job:localhost/replica:0/task:0/device:CPU:0 then broadcast to ('/job:localhost/replica:0/task:0/device:CPU:0',).\n"
     ]
    },
    {
     "name": "stderr",
     "output_type": "stream",
     "text": [
      "INFO:tensorflow:Reduce to /job:localhost/replica:0/task:0/device:CPU:0 then broadcast to ('/job:localhost/replica:0/task:0/device:CPU:0',).\n"
     ]
    },
    {
     "name": "stdout",
     "output_type": "stream",
     "text": [
      "INFO:tensorflow:Reduce to /job:localhost/replica:0/task:0/device:CPU:0 then broadcast to ('/job:localhost/replica:0/task:0/device:CPU:0',).\n"
     ]
    },
    {
     "name": "stderr",
     "output_type": "stream",
     "text": [
      "INFO:tensorflow:Reduce to /job:localhost/replica:0/task:0/device:CPU:0 then broadcast to ('/job:localhost/replica:0/task:0/device:CPU:0',).\n"
     ]
    },
    {
     "name": "stdout",
     "output_type": "stream",
     "text": [
      "INFO:tensorflow:Reduce to /job:localhost/replica:0/task:0/device:CPU:0 then broadcast to ('/job:localhost/replica:0/task:0/device:CPU:0',).\n"
     ]
    },
    {
     "name": "stderr",
     "output_type": "stream",
     "text": [
      "INFO:tensorflow:Reduce to /job:localhost/replica:0/task:0/device:CPU:0 then broadcast to ('/job:localhost/replica:0/task:0/device:CPU:0',).\n"
     ]
    },
    {
     "name": "stdout",
     "output_type": "stream",
     "text": [
      "INFO:tensorflow:Reduce to /job:localhost/replica:0/task:0/device:CPU:0 then broadcast to ('/job:localhost/replica:0/task:0/device:CPU:0',).\n"
     ]
    },
    {
     "name": "stderr",
     "output_type": "stream",
     "text": [
      "INFO:tensorflow:Reduce to /job:localhost/replica:0/task:0/device:CPU:0 then broadcast to ('/job:localhost/replica:0/task:0/device:CPU:0',).\n"
     ]
    }
   ],
   "source": [
    "with strategy.scope():\n",
    "\n",
    "    #inicijalizacija modela \n",
    "    model = transformer(\n",
    "        vocab_size=VOCAB_SIZE,\n",
    "        num_layers=NUM_LAYERS,\n",
    "        units=UNITS,\n",
    "        d_model=D_MODEL,\n",
    "        num_heads=NUM_HEADS,\n",
    "        dropout=DROPOUT,\n",
    "    )\n",
    "\n",
    "    #kompilacija modela\n",
    "    model.compile(optimizer=optimizer, loss=loss_function, metrics=[accuracy])"
   ]
  },
  {
   "cell_type": "markdown",
   "id": "eb54214a",
   "metadata": {},
   "source": [
    "Sada pozovimo metodu model.summary() za ispis korisnog sažetka modela koji uključuje sljedeće:\n",
    "\n",
    "- Naziv i vrstu svih slojeva modela.\n",
    "\n",
    "- Izlazni obrazac za svaki sloj.\n",
    "\n",
    "- Broj težinskih parametara za svaki sloj.\n",
    "\n",
    "- Ako model ima opću topologiju, ulazi koje svaki sloj prima.\n",
    "\n",
    "- Ukupan broj parametara modela koji se mogu trenirati i koji se ne mogu trenirati."
   ]
  },
  {
   "cell_type": "code",
   "execution_count": 39,
   "id": "a2ec83bf",
   "metadata": {},
   "outputs": [
    {
     "name": "stdout",
     "output_type": "stream",
     "text": [
      "Model: \"transformer\"\n",
      "__________________________________________________________________________________________________\n",
      " Layer (type)                   Output Shape         Param #     Connected to                     \n",
      "==================================================================================================\n",
      " inputs (InputLayer)            [(None, None)]       0           []                               \n",
      "                                                                                                  \n",
      " dec_inputs (InputLayer)        [(None, None)]       0           []                               \n",
      "                                                                                                  \n",
      " enc_padding_mask (Lambda)      (None, 1, 1, None)   0           ['inputs[0][0]']                 \n",
      "                                                                                                  \n",
      " encoder (Functional)           (None, None, 512)    10534400    ['inputs[0][0]',                 \n",
      "                                                                  'enc_padding_mask[0][0]']       \n",
      "                                                                                                  \n",
      " look_ahead_mask (Lambda)       (None, 1, None, Non  0           ['dec_inputs[0][0]']             \n",
      "                                e)                                                                \n",
      "                                                                                                  \n",
      " dec_padding_mask (Lambda)      (None, 1, 1, None)   0           ['inputs[0][0]']                 \n",
      "                                                                                                  \n",
      " decoder (Functional)           (None, None, 512)    14740992    ['dec_inputs[0][0]',             \n",
      "                                                                  'encoder[0][0]',                \n",
      "                                                                  'look_ahead_mask[0][0]',        \n",
      "                                                                  'dec_padding_mask[0][0]']       \n",
      "                                                                                                  \n",
      " outputs (Dense)                (None, None, 8247)   4230711     ['decoder[0][0]']                \n",
      "                                                                                                  \n",
      "==================================================================================================\n",
      "Total params: 29,506,103\n",
      "Trainable params: 29,506,103\n",
      "Non-trainable params: 0\n",
      "__________________________________________________________________________________________________\n"
     ]
    }
   ],
   "source": [
    "model.summary()"
   ]
  },
  {
   "cell_type": "markdown",
   "id": "b7a163c6",
   "metadata": {},
   "source": [
    "Transformer se trenira sa jednostavnim pozivom `model.fit()` funkcije."
   ]
  },
  {
   "cell_type": "code",
   "execution_count": 40,
   "id": "ad174c2f",
   "metadata": {},
   "outputs": [
    {
     "name": "stdout",
     "output_type": "stream",
     "text": [
      "Epoch 1/40\n",
      "INFO:tensorflow:Reduce to /job:localhost/replica:0/task:0/device:CPU:0 then broadcast to ('/job:localhost/replica:0/task:0/device:CPU:0',).\n"
     ]
    },
    {
     "name": "stderr",
     "output_type": "stream",
     "text": [
      "INFO:tensorflow:Reduce to /job:localhost/replica:0/task:0/device:CPU:0 then broadcast to ('/job:localhost/replica:0/task:0/device:CPU:0',).\n"
     ]
    },
    {
     "name": "stdout",
     "output_type": "stream",
     "text": [
      "INFO:tensorflow:Reduce to /job:localhost/replica:0/task:0/device:CPU:0 then broadcast to ('/job:localhost/replica:0/task:0/device:CPU:0',).\n"
     ]
    },
    {
     "name": "stderr",
     "output_type": "stream",
     "text": [
      "INFO:tensorflow:Reduce to /job:localhost/replica:0/task:0/device:CPU:0 then broadcast to ('/job:localhost/replica:0/task:0/device:CPU:0',).\n"
     ]
    },
    {
     "name": "stdout",
     "output_type": "stream",
     "text": [
      "INFO:tensorflow:Reduce to /job:localhost/replica:0/task:0/device:CPU:0 then broadcast to ('/job:localhost/replica:0/task:0/device:CPU:0',).\n"
     ]
    },
    {
     "name": "stderr",
     "output_type": "stream",
     "text": [
      "INFO:tensorflow:Reduce to /job:localhost/replica:0/task:0/device:CPU:0 then broadcast to ('/job:localhost/replica:0/task:0/device:CPU:0',).\n"
     ]
    },
    {
     "name": "stdout",
     "output_type": "stream",
     "text": [
      "INFO:tensorflow:Reduce to /job:localhost/replica:0/task:0/device:CPU:0 then broadcast to ('/job:localhost/replica:0/task:0/device:CPU:0',).\n"
     ]
    },
    {
     "name": "stderr",
     "output_type": "stream",
     "text": [
      "INFO:tensorflow:Reduce to /job:localhost/replica:0/task:0/device:CPU:0 then broadcast to ('/job:localhost/replica:0/task:0/device:CPU:0',).\n"
     ]
    },
    {
     "name": "stdout",
     "output_type": "stream",
     "text": [
      "INFO:tensorflow:Reduce to /job:localhost/replica:0/task:0/device:CPU:0 then broadcast to ('/job:localhost/replica:0/task:0/device:CPU:0',).\n"
     ]
    },
    {
     "name": "stderr",
     "output_type": "stream",
     "text": [
      "INFO:tensorflow:Reduce to /job:localhost/replica:0/task:0/device:CPU:0 then broadcast to ('/job:localhost/replica:0/task:0/device:CPU:0',).\n"
     ]
    },
    {
     "name": "stdout",
     "output_type": "stream",
     "text": [
      "INFO:tensorflow:Reduce to /job:localhost/replica:0/task:0/device:CPU:0 then broadcast to ('/job:localhost/replica:0/task:0/device:CPU:0',).\n"
     ]
    },
    {
     "name": "stderr",
     "output_type": "stream",
     "text": [
      "INFO:tensorflow:Reduce to /job:localhost/replica:0/task:0/device:CPU:0 then broadcast to ('/job:localhost/replica:0/task:0/device:CPU:0',).\n"
     ]
    },
    {
     "name": "stdout",
     "output_type": "stream",
     "text": [
      "3041/3041 [==============================] - 315s 100ms/step - loss: 1.5717 - accuracy: 0.0742\n",
      "Epoch 2/40\n",
      "3041/3041 [==============================] - 304s 100ms/step - loss: 1.3711 - accuracy: 0.0872\n",
      "Epoch 3/40\n",
      "3041/3041 [==============================] - 304s 100ms/step - loss: 1.3252 - accuracy: 0.0904\n",
      "Epoch 4/40\n",
      "3041/3041 [==============================] - 304s 100ms/step - loss: 1.2956 - accuracy: 0.0925\n",
      "Epoch 5/40\n",
      "3041/3041 [==============================] - 304s 100ms/step - loss: 1.2757 - accuracy: 0.0940\n",
      "Epoch 6/40\n",
      "3041/3041 [==============================] - 303s 100ms/step - loss: 1.2585 - accuracy: 0.0953\n",
      "Epoch 7/40\n",
      "3041/3041 [==============================] - 303s 100ms/step - loss: 1.2438 - accuracy: 0.0964\n",
      "Epoch 8/40\n",
      "3041/3041 [==============================] - 303s 100ms/step - loss: 1.2320 - accuracy: 0.0973\n",
      "Epoch 9/40\n",
      "3041/3041 [==============================] - 304s 100ms/step - loss: 1.2208 - accuracy: 0.0981\n",
      "Epoch 10/40\n",
      "3041/3041 [==============================] - 304s 100ms/step - loss: 1.2107 - accuracy: 0.0989\n",
      "Epoch 11/40\n",
      "3041/3041 [==============================] - 304s 100ms/step - loss: 1.2014 - accuracy: 0.0997\n",
      "Epoch 12/40\n",
      "3041/3041 [==============================] - 304s 100ms/step - loss: 1.1935 - accuracy: 0.1002\n",
      "Epoch 13/40\n",
      "3041/3041 [==============================] - 304s 100ms/step - loss: 1.1854 - accuracy: 0.1010\n",
      "Epoch 14/40\n",
      "3041/3041 [==============================] - 303s 100ms/step - loss: 1.1781 - accuracy: 0.1016\n",
      "Epoch 15/40\n",
      "3041/3041 [==============================] - 303s 100ms/step - loss: 1.1705 - accuracy: 0.1021\n",
      "Epoch 16/40\n",
      "3041/3041 [==============================] - 304s 100ms/step - loss: 1.1631 - accuracy: 0.1029\n",
      "Epoch 17/40\n",
      "3041/3041 [==============================] - 303s 100ms/step - loss: 1.1560 - accuracy: 0.1034\n",
      "Epoch 18/40\n",
      "3041/3041 [==============================] - 303s 100ms/step - loss: 1.1494 - accuracy: 0.1040\n",
      "Epoch 19/40\n",
      "3041/3041 [==============================] - 303s 100ms/step - loss: 1.1437 - accuracy: 0.1044\n",
      "Epoch 20/40\n",
      "3041/3041 [==============================] - 303s 100ms/step - loss: 1.1375 - accuracy: 0.1051\n",
      "Epoch 21/40\n",
      "3041/3041 [==============================] - 304s 100ms/step - loss: 1.1320 - accuracy: 0.1055\n",
      "Epoch 22/40\n",
      "3041/3041 [==============================] - 303s 100ms/step - loss: 1.1268 - accuracy: 0.1060\n",
      "Epoch 23/40\n",
      "3041/3041 [==============================] - 304s 100ms/step - loss: 1.1217 - accuracy: 0.1065\n",
      "Epoch 24/40\n",
      "3041/3041 [==============================] - 303s 100ms/step - loss: 1.1165 - accuracy: 0.1069\n",
      "Epoch 25/40\n",
      "3041/3041 [==============================] - 303s 100ms/step - loss: 1.1118 - accuracy: 0.1074\n",
      "Epoch 26/40\n",
      "3041/3041 [==============================] - 303s 100ms/step - loss: 1.1077 - accuracy: 0.1078\n",
      "Epoch 27/40\n",
      "3041/3041 [==============================] - 303s 100ms/step - loss: 1.1036 - accuracy: 0.1081\n",
      "Epoch 28/40\n",
      "3041/3041 [==============================] - 303s 100ms/step - loss: 1.0992 - accuracy: 0.1085\n",
      "Epoch 29/40\n",
      "3041/3041 [==============================] - 303s 100ms/step - loss: 1.0953 - accuracy: 0.1089\n",
      "Epoch 30/40\n",
      "3041/3041 [==============================] - 303s 100ms/step - loss: 1.0913 - accuracy: 0.1092\n",
      "Epoch 31/40\n",
      "3041/3041 [==============================] - 303s 100ms/step - loss: 1.0875 - accuracy: 0.1096\n",
      "Epoch 32/40\n",
      "3041/3041 [==============================] - 304s 100ms/step - loss: 1.0843 - accuracy: 0.1099\n",
      "Epoch 33/40\n",
      "3041/3041 [==============================] - 303s 100ms/step - loss: 1.0807 - accuracy: 0.1103\n",
      "Epoch 34/40\n",
      "3041/3041 [==============================] - 303s 100ms/step - loss: 1.0770 - accuracy: 0.1106\n",
      "Epoch 35/40\n",
      "3041/3041 [==============================] - 303s 100ms/step - loss: 1.0737 - accuracy: 0.1109\n",
      "Epoch 36/40\n",
      "3041/3041 [==============================] - 304s 100ms/step - loss: 1.0705 - accuracy: 0.1112\n",
      "Epoch 37/40\n",
      "3041/3041 [==============================] - 303s 100ms/step - loss: 1.0675 - accuracy: 0.1115\n",
      "Epoch 38/40\n",
      "3041/3041 [==============================] - 303s 100ms/step - loss: 1.0644 - accuracy: 0.1119\n",
      "Epoch 39/40\n",
      "3041/3041 [==============================] - 303s 100ms/step - loss: 1.0616 - accuracy: 0.1121\n",
      "Epoch 40/40\n",
      "3041/3041 [==============================] - 303s 100ms/step - loss: 1.0585 - accuracy: 0.1125\n"
     ]
    },
    {
     "data": {
      "text/plain": [
       "<keras.callbacks.History at 0x7fe970737940>"
      ]
     },
     "execution_count": 40,
     "metadata": {},
     "output_type": "execute_result"
    }
   ],
   "source": [
    "model.fit(dataset, epochs=EPOCHS)"
   ]
  },
  {
   "cell_type": "markdown",
   "id": "00f4ab64",
   "metadata": {},
   "source": [
    "Sada natrenirani model spremimo."
   ]
  },
  {
   "cell_type": "code",
   "execution_count": null,
   "id": "4683f49b",
   "metadata": {},
   "outputs": [],
   "source": [
    "tf.keras.models.save_model(model, filepath=\"model.h5\", include_optimizer=False)"
   ]
  },
  {
   "cell_type": "code",
   "execution_count": null,
   "id": "9ae8b996",
   "metadata": {},
   "outputs": [],
   "source": []
  }
 ],
 "metadata": {
  "kernelspec": {
   "display_name": "Python 3 (ipykernel)",
   "language": "python",
   "name": "python3"
  },
  "language_info": {
   "codemirror_mode": {
    "name": "ipython",
    "version": 3
   },
   "file_extension": ".py",
   "mimetype": "text/x-python",
   "name": "python",
   "nbconvert_exporter": "python",
   "pygments_lexer": "ipython3",
   "version": "3.9.12"
  }
 },
 "nbformat": 4,
 "nbformat_minor": 5
}
